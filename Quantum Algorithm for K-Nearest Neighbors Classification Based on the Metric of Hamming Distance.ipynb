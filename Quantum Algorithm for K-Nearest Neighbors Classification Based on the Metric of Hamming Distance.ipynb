{
 "cells": [
  {
   "cell_type": "code",
   "execution_count": 1,
   "id": "chinese-badge",
   "metadata": {},
   "outputs": [],
   "source": [
    "%matplotlib inline\n",
    "# Importing standard Qiskit libraries\n",
    "from qiskit import QuantumCircuit, execute, Aer, IBMQ, QuantumRegister, ClassicalRegister\n",
    "from qiskit.compiler import transpile, assemble\n",
    "from qiskit.tools.jupyter import *\n",
    "from qiskit.visualization import *\n",
    "from ibm_quantum_widgets import *\n",
    "\n",
    "# Loading your IBM Q account(s)\n",
    "provider = IBMQ.load_account()"
   ]
  },
  {
   "cell_type": "code",
   "execution_count": 4,
   "id": "noticed-immigration",
   "metadata": {},
   "outputs": [],
   "source": [
    "import numpy as np\n",
    "import math\n",
    "from sklearn.model_selection import train_test_split\n",
    "from sklearn import datasets\n",
    "from qiskit.circuit.library import MCXGate\n",
    "import matplotlib.pyplot as plt\n",
    "import random"
   ]
  },
  {
   "cell_type": "code",
   "execution_count": 3,
   "id": "typical-sailing",
   "metadata": {},
   "outputs": [],
   "source": [
    "def cnx(qc,*qubits):\n",
    "    \"\"\"Control n-1 qubits, apply 'not' to last one\n",
    "    Follows:\n",
    "    @article{PhysRevA.52.3457,\n",
    "      title = {Elementary gates for quantum computation},\n",
    "      author = {Barenco, Adriano and Bennett, Charles H. and Cleve, Richard and DiVincenzo, David P. and Margolus, Norman and Shor, Peter and Sleator, Tycho and Smolin, John A. and Weinfurter, Harald},\n",
    "      doi = {10.1103/PhysRevA.52.3457},\n",
    "      url = {https://link.aps.org/doi/10.1103/PhysRevA.52.3457}\n",
    "    }\n",
    "    Follwing Lemma 7.9, which uses Lemma 5.1 and 4.3\n",
    "    \"\"\"\n",
    "    if len(qubits) >= 3:\n",
    "        last = qubits[-1]\n",
    "        #A matrix: (made up of a  and Y rotation, lemma4.3)\n",
    "        qc.crz(np.pi/2,qubits[-2],qubits[-1])\n",
    "        #cry\n",
    "        qc.cry(qc,np.pi/2,qubits[-2],qubits[-1])\n",
    "        \n",
    "        #Control not gate\n",
    "        qc.cnx(qc,*qubits[:-2],qubits[-1])\n",
    "        \n",
    "        #B matrix (cry again, but opposite angle)\n",
    "        qc.cry(qc,-np.pi/2,qubits[-2],qubits[-1])\n",
    "        \n",
    "        #Control\n",
    "        qc.cnx(qc,*qubits[:-2],qubits[-1])\n",
    "        \n",
    "        #C matrix (final rotation)\n",
    "        qc.crz(-np.pi/2,qubits[-2],qubits[-1])\n",
    "    elif len(qubits)==3:\n",
    "        qc.ccx(*qubits)\n",
    "    elif len(qubits)==2:\n",
    "        qc.cx(*qubits)"
   ]
  },
  {
   "cell_type": "code",
   "execution_count": 4,
   "id": "annoying-services",
   "metadata": {},
   "outputs": [],
   "source": [
    "def encode(x):\n",
    "    n = len(x)\n",
    "    binary = ''\n",
    "    for i in range(2):\n",
    "        temp = int(x[i]/2)\n",
    "        tempBin = bin(temp).replace(\"0b\", \"\")\n",
    "        if len(tempBin) < 2:\n",
    "            tempBin = '0'*(2-len(tempBin)) + tempBin\n",
    "        binary += tempBin\n",
    "    return binary"
   ]
  },
  {
   "cell_type": "code",
   "execution_count": 6,
   "id": "identical-adobe",
   "metadata": {},
   "outputs": [
    {
     "name": "stdout",
     "output_type": "stream",
     "text": [
      "[0 1 2 3 4 5 6 7]\n",
      "Training data points:\n",
      "[[0 0 1]\n",
      " [0 1 0]\n",
      " [1 0 1]\n",
      " [1 1 1]\n",
      " [0 1 1]\n",
      " [1 1 0]\n",
      " [0 0 0]]\n",
      "Training Label: \n",
      "[1. 0. 1. 1. 1. 0. 0.]\n",
      "Test data point:\n",
      "[[1 0 0]]\n"
     ]
    }
   ],
   "source": [
    "test_data_points = 1\n",
    "data_size = 8\n",
    "exponent = int(math.log(data_size, 2))\n",
    "data = np.array(np.arange(data_size), dtype= np.uint8)\n",
    "label = np.zeros(data_size)\n",
    "label[1::2] = 1 \n",
    "data= np.flip((((data[:,None] & (1 << np.arange(exponent)))) > 0).astype(int), axis=1)\n",
    "\n",
    "trainData,testData,trainLabel,testLabel = train_test_split(data,label,test_size=test_data_points)    \n",
    "print(\"Training data points:\")\n",
    "print(trainData)\n",
    "print(\"Training Label: \")\n",
    "print(trainLabel)\n",
    "print(\"Test data point:\")\n",
    "print(testData)"
   ]
  },
  {
   "cell_type": "code",
   "execution_count": 8,
   "id": "backed-thought",
   "metadata": {},
   "outputs": [],
   "source": [
    "p = len(trainLabel)\n",
    "n = len(testData[0])\n",
    "v = QuantumRegister(p,\"v\")\n",
    "c = QuantumRegister(p,\"c\")\n",
    "measure = ClassicalRegister(p,\"measure\")\n",
    "T = QuantumCircuit(v,c,measure)\n",
    "T.h(v)\n",
    "for i in range(p):\n",
    "    #for j in range(n):\n",
    "    #    if trainData[i][j] == 1:\n",
    "    #        T.x(v[n*i + j])\n",
    "    if trainLabel[i] == 1:\n",
    "        T.x(c[i])\n",
    "T.barrier()\n",
    "T.h(v)\n",
    "T.h(c)\n",
    "c_qubits = p\n",
    "v_qubits = p"
   ]
  },
  {
   "cell_type": "code",
   "execution_count": 9,
   "id": "current-equilibrium",
   "metadata": {},
   "outputs": [
    {
     "name": "stdout",
     "output_type": "stream",
     "text": [
      "total qubits:  17\n"
     ]
    },
    {
     "data": {
      "text/plain": [
       "<qiskit.circuit.instructionset.InstructionSet at 0x7fae42bba730>"
      ]
     },
     "execution_count": 9,
     "metadata": {},
     "output_type": "execute_result"
    }
   ],
   "source": [
    "test = QuantumRegister(n,\"x\")\n",
    "x = QuantumCircuit(test)\n",
    "for i in range(n):\n",
    "    if testData[0][i] == 1:\n",
    "        x.x(test[i])\n",
    "n_qubits = p + p + n\n",
    "x_qubits = n\n",
    "x.barrier()"
   ]
  },
  {
   "cell_type": "code",
   "execution_count": 10,
   "id": "compatible-underground",
   "metadata": {},
   "outputs": [
    {
     "name": "stdout",
     "output_type": "stream",
     "text": [
      "total qubits:  18\n"
     ]
    }
   ],
   "source": [
    "main_circ = x + T\n",
    "anc = QuantumRegister(1,\"anc\")\n",
    "main_circ.add_register(anc)\n",
    "n_qubits += 1\n",
    "anc_qubits = 1\n",
    "main_circ.draw()"
   ]
  },
  {
   "cell_type": "code",
   "execution_count": 11,
   "id": "rising-terrorism",
   "metadata": {},
   "outputs": [
    {
     "data": {
      "text/plain": [
       "<qiskit.circuit.instructionset.InstructionSet at 0x7fae41e8fa90>"
      ]
     },
     "execution_count": 11,
     "metadata": {},
     "output_type": "execute_result"
    }
   ],
   "source": [
    "[x,v,c,anc] = main_circ.qregs\n",
    "main_circ.x(x[0])"
   ]
  },
  {
   "cell_type": "code",
   "execution_count": 12,
   "id": "younger-sodium",
   "metadata": {},
   "outputs": [],
   "source": [
    "for i in range(p):\n",
    "    for j in range(n):\n",
    "        main_circ.cx(x[j],v[i])"
   ]
  },
  {
   "cell_type": "code",
   "execution_count": 13,
   "id": "separated-bidder",
   "metadata": {},
   "outputs": [
    {
     "name": "stdout",
     "output_type": "stream",
     "text": [
      "total qubits:  22\n"
     ]
    }
   ],
   "source": [
    "main_circ.barrier()\n",
    "a = QuantumRegister(n,\"a\")\n",
    "o = QuantumRegister(1,\"o\")\n",
    "main_circ.add_register(a)\n",
    "main_circ.add_register(o)\n",
    "\n",
    "a_qubits = n\n",
    "o_qubits = 1\n",
    "n_qubits += n + 1"
   ]
  },
  {
   "cell_type": "code",
   "execution_count": 14,
   "id": "separate-edmonton",
   "metadata": {
    "scrolled": false
   },
   "outputs": [
    {
     "data": {
      "text/plain": [
       "<qiskit.circuit.instructionset.InstructionSet at 0x7fae41d4aaf0>"
      ]
     },
     "execution_count": 14,
     "metadata": {},
     "output_type": "execute_result"
    }
   ],
   "source": [
    "for i in range(p):\n",
    "    for j in range(n):\n",
    "        if (j > 0):\n",
    "            main_circ.ccx(v[i],o[0],a[j])\n",
    "            main_circ.x(a[:j])\n",
    "            mcx = MCXGate(num_ctrl_qubits=j+2)\n",
    "            #main_circ.mcx([v[i],a[:j]],o)\n",
    "            cnx(main_circ,[v[i],a[:j],o])\n",
    "            main_circ.x(a[:j])\n",
    "        else:\n",
    "            main_circ.ccx(v[i],o[0],a[j])\n",
    "            main_circ.ccx(v[i],a[j],o[0])\n",
    "main_circ.x(o)\n",
    "main_circ.barrier()"
   ]
  },
  {
   "cell_type": "code",
   "execution_count": 15,
   "id": "complicated-pulse",
   "metadata": {
    "scrolled": false
   },
   "outputs": [
    {
     "name": "stdout",
     "output_type": "stream",
     "text": [
      "total qubits:  25\n"
     ]
    }
   ],
   "source": [
    "threshold = 5\n",
    "t = math.ceil(np.log2(threshold))\n",
    "orQubits = QuantumRegister(t,\"orRegister\")\n",
    "main_circ.add_register(orQubits)\n",
    "main_circ.x(a)\n",
    "main_circ.x(o)\n",
    "for i in range(0,2,t):\n",
    "    main_circ.ccx(a[n-2-i],a[n-1-i],orQubits[i])\n",
    "main_circ.ccx(o,orQubits[0],orQubits[t-1])\n",
    "main_circ.x(orQubits[n-1])\n",
    "\n",
    "or_qubits = t\n",
    "n_qubits += n\n",
    "print(\"total qubits: \",n_qubits)"
   ]
  },
  {
   "cell_type": "code",
   "execution_count": 16,
   "id": "damaged-tamil",
   "metadata": {},
   "outputs": [
    {
     "data": {
      "text/plain": [
       "<qiskit.circuit.instructionset.InstructionSet at 0x7fae41e28610>"
      ]
     },
     "execution_count": 16,
     "metadata": {},
     "output_type": "execute_result"
    }
   ],
   "source": [
    "main_circ.measure(c,measure)"
   ]
  },
  {
   "cell_type": "code",
   "execution_count": 17,
   "id": "alternative-consciousness",
   "metadata": {
    "scrolled": true
   },
   "outputs": [
    {
     "name": "stdout",
     "output_type": "stream",
     "text": [
      "lab_dict:  {'0': 5, '1': 2}\n",
      "lab_dict:  {'0': 4, '1': 3}\n",
      "lab_dict:  {'0': 5, '1': 2}\n",
      "lab_dict:  {'0': 4, '1': 3}\n",
      "lab_dict:  {'0': 3, '1': 4}\n",
      "lab_dict:  {'0': 5, '1': 2}\n",
      "lab_dict:  {'0': 4, '1': 3}\n",
      "lab_dict:  {'0': 1, '1': 6}\n",
      "lab_dict:  {'0': 4, '1': 3}\n",
      "lab_dict:  {'0': 2, '1': 5}\n",
      "lab_dict:  {'0': 4, '1': 3}\n",
      "{'0': 8, '1': 3}\n",
      "Predicted class label: 0\n"
     ]
    }
   ],
   "source": [
    "from statistics import mode\n",
    "import operator\n",
    "\n",
    "shots = 11\n",
    "backend = Aer.get_backend('qasm_simulator')\n",
    "results = execute(main_circ, backend=backend, shots=shots).result()\n",
    "count = results.get_counts()\n",
    "mx = list(count.keys())\n",
    "classes = {'0':0,'1':0}\n",
    "\n",
    "for i in range(len(mx)):\n",
    "    label = mx[i]\n",
    "    #print(label)\n",
    "    lab_dict = {'0':0,'1':0}\n",
    "    for element in label:\n",
    "        lab_dict[element] += 1\n",
    "    maxFreq = -1\n",
    "    y_pred = -1\n",
    "    print(\"lab_dict: \",lab_dict)\n",
    "    for key in lab_dict:\n",
    "        if lab_dict[key] > maxFreq:\n",
    "            maxFreq = lab_dict[key]\n",
    "            y_pred = key\n",
    "    classes[y_pred] += 1\n",
    "print(classes)\n",
    "freq = 0\n",
    "total_freq = 0\n",
    "for keys in classes:\n",
    "    total_freq += classes[keys]\n",
    "    if classes[keys] > freq:\n",
    "        freq = classes[keys]\n",
    "        Y_pred = keys\n",
    "\n",
    "print(\"Predicted class label:\",Y_pred)"
   ]
  }
 ],
 "metadata": {
  "kernelspec": {
   "display_name": "Python 3",
   "language": "python",
   "name": "python3"
  },
  "language_info": {
   "codemirror_mode": {
    "name": "ipython",
    "version": 3
   },
   "file_extension": ".py",
   "mimetype": "text/x-python",
   "name": "python",
   "nbconvert_exporter": "python",
   "pygments_lexer": "ipython3",
   "version": "3.8.8"
  }
 },
 "nbformat": 4,
 "nbformat_minor": 5
}
